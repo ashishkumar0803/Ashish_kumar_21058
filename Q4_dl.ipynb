{
  "nbformat": 4,
  "nbformat_minor": 0,
  "metadata": {
    "colab": {
      "provenance": []
    },
    "kernelspec": {
      "name": "python3",
      "display_name": "Python 3"
    },
    "language_info": {
      "name": "python"
    }
  },
  "cells": [
    {
      "cell_type": "code",
      "source": [
        "import torch\n",
        "import torchvision\n",
        "import torchvision.transforms as transforms\n",
        "import torch.nn as nn\n",
        "import torch.optim as optim\n",
        "from torchvision import models\n",
        "from sklearn.model_selection import train_test_split\n",
        "\n",
        "# Define transform to normalize the data\n",
        "transform = transforms.Compose([\n",
        "    transforms.ToTensor(),\n",
        "    transforms.Normalize((0.5, 0.5, 0.5), (0.5, 0.5, 0.5))\n",
        "])\n",
        "\n",
        "# Load the SVHN dataset\n",
        "train_dataset = torchvision.datasets.SVHN(root='./data', split='train', download=True, transform=transform)\n",
        "test_dataset = torchvision.datasets.SVHN(root='./data', split='test', download=True, transform=transform)\n",
        "\n",
        "# Use a subset of the dataset to speed up computations\n",
        "train_dataset, _ = train_test_split(train_dataset, train_size=0.25, random_state=42)\n",
        "\n",
        "# Create data loaders\n",
        "train_loader = torch.utils.data.DataLoader(train_dataset, batch_size=64, shuffle=True)\n",
        "test_loader = torch.utils.data.DataLoader(test_dataset, batch_size=64, shuffle=False)\n"
      ],
      "metadata": {
        "colab": {
          "base_uri": "https://localhost:8080/"
        },
        "id": "gfYS-IQMJDMW",
        "outputId": "c033ef87-f69c-4c64-e1d0-d0124900c2fd"
      },
      "execution_count": null,
      "outputs": [
        {
          "output_type": "stream",
          "name": "stdout",
          "text": [
            "Using downloaded and verified file: ./data/train_32x32.mat\n",
            "Using downloaded and verified file: ./data/test_32x32.mat\n"
          ]
        }
      ]
    },
    {
      "cell_type": "code",
      "source": [
        "device = torch.device(\"cuda:0\" if torch.cuda.is_available() else \"cpu\")"
      ],
      "metadata": {
        "id": "VwcZ3-CCJjBS"
      },
      "execution_count": 27,
      "outputs": []
    },
    {
      "cell_type": "code",
      "source": [
        "class LeNet5(nn.Module):\n",
        "    def __init__(self, num_classes=10):\n",
        "        super(LeNet5, self).__init__()\n",
        "        self.features = nn.Sequential(\n",
        "            nn.Conv2d(3, 6, kernel_size=5),\n",
        "            nn.ReLU(inplace=True),\n",
        "            nn.MaxPool2d(kernel_size=2, stride=2),\n",
        "            nn.Conv2d(6, 16, kernel_size=5),\n",
        "            nn.ReLU(inplace=True),\n",
        "            nn.MaxPool2d(kernel_size=2, stride=2)\n",
        "        )\n",
        "        self.classifier = nn.Sequential(\n",
        "            nn.Linear(16*5*5, 120),\n",
        "            nn.ReLU(inplace=True),\n",
        "            nn.Linear(120, 84),\n",
        "            nn.ReLU(inplace=True),\n",
        "            nn.Linear(84, num_classes)\n",
        "        )\n",
        "\n",
        "    def forward(self, x):\n",
        "        x = self.features(x)\n",
        "        x = torch.flatten(x, 1)\n",
        "        x = self.classifier(x)\n",
        "        return x"
      ],
      "metadata": {
        "id": "B8xkSbdLJjE2"
      },
      "execution_count": 28,
      "outputs": []
    },
    {
      "cell_type": "code",
      "source": [
        "class AlexNet(nn.Module):\n",
        "    def __init__(self, num_classes=1000):\n",
        "        super(AlexNet, self).__init__()\n",
        "        self.features = models.alexnet(pretrained=False).features\n",
        "        self.avgpool = nn.AdaptiveAvgPool2d((6, 6))\n",
        "        self.classifier = nn.Sequential(\n",
        "            nn.Dropout(),\n",
        "            nn.Linear(256 * 6 * 6, 4096),\n",
        "            nn.ReLU(inplace=True),\n",
        "            nn.Dropout(),\n",
        "            nn.Linear(4096, 4096),\n",
        "            nn.ReLU(inplace=True),\n",
        "            nn.Linear(4096, num_classes),\n",
        "        )\n",
        "\n",
        "    def forward(self, x):\n",
        "        x = self.features(x)\n",
        "        x = self.avgpool(x)\n",
        "        x = torch.flatten(x, 1)\n",
        "        x = self.classifier(x)\n",
        "        return x"
      ],
      "metadata": {
        "id": "CD9iyca8YI4Z"
      },
      "execution_count": 29,
      "outputs": []
    },
    {
      "cell_type": "code",
      "source": [
        "models_list = {\n",
        "    \"LeNet-5\": LeNet5,\n",
        "    \"AlexNet\": AlexNet,\n",
        "    \"VGG\": models.vgg16,\n",
        "    \"ResNet-18\": models.resnet18,\n",
        "    \"ResNet-50\": models.resnet50,\n",
        "    \"ResNet-101\": models.resnet101\n",
        "}\n",
        "\n",
        "def load_pretrained_weights(model_name):\n",
        "    if model_name == \"LeNet-5\":\n",
        "        return LeNet5().to(device)\n",
        "    elif model_name == \"AlexNet\":\n",
        "        model = AlexNet(num_classes=10)\n",
        "        pretrained_dict = models.alexnet(pretrained=True).state_dict()\n",
        "        model_dict = model.state_dict()\n",
        "        pretrained_dict = {k: v for k, v in pretrained_dict.items() if k in model_dict}\n",
        "        # Update the state dict\n",
        "        model_dict.update(pretrained_dict)\n",
        "        # Load the updated state dict\n",
        "        model.load_state_dict(model_dict)\n",
        "        return model.to(device)\n",
        "    else:\n",
        "        model = models_list[model_name](pretrained=True)\n",
        "        # Replace the last layer with custom output layer to match SVHN\n",
        "        if \"ResNet\" in model_name:\n",
        "            num_ftrs = model.fc.in_features\n",
        "            model.fc = nn.Linear(num_ftrs, 10)\n",
        "        else:\n",
        "            num_ftrs = model.classifier[-1].in_features\n",
        "            model.classifier[-1] = nn.Linear(num_ftrs, 10)\n",
        "        return model.to(device)"
      ],
      "metadata": {
        "id": "hNml4dEoYI63"
      },
      "execution_count": 30,
      "outputs": []
    },
    {
      "cell_type": "code",
      "source": [
        "def train_model(model, criterion, optimizer, num_epochs=5):\n",
        "    for epoch in range(num_epochs):\n",
        "        model.train()\n",
        "        running_loss = 0.0\n",
        "        correct = 0\n",
        "        total = 0\n",
        "\n",
        "        for inputs, labels in train_loader:\n",
        "            inputs, labels = inputs.to(device), labels.to(device)\n",
        "            optimizer.zero_grad()\n",
        "            outputs = model(inputs)\n",
        "            loss = criterion(outputs, labels)\n",
        "            loss.backward()\n",
        "            optimizer.step()\n",
        "\n",
        "            running_loss += loss.item()\n",
        "            _, predicted = outputs.max(1)\n",
        "            total += labels.size(0)\n",
        "            correct += predicted.eq(labels).sum().item()\n",
        "\n",
        "        train_loss = running_loss / len(train_loader)\n",
        "        train_accuracy = correct / total\n",
        "\n",
        "        print(f\"Epoch {epoch+1}/{num_epochs}, Train Loss: {train_loss:.4f}, Train Accuracy: {100*train_accuracy:.2f}%\")\n"
      ],
      "metadata": {
        "id": "CnRE--NCYI9b"
      },
      "execution_count": 31,
      "outputs": []
    },
    {
      "cell_type": "code",
      "source": [
        "def test_model(model):\n",
        "    model.eval()\n",
        "    correct = 0\n",
        "    total = 0\n",
        "    with torch.no_grad():\n",
        "        for inputs, labels in test_loader:\n",
        "            inputs, labels = inputs.to(device), labels.to(device)\n",
        "            outputs = model(inputs)\n",
        "            _, predicted = outputs.max(1)\n",
        "            total += labels.size(0)\n",
        "            correct += predicted.eq(labels).sum().item()\n",
        "\n",
        "    test_accuracy = correct / total\n",
        "    print(f\"Test Accuracy: {100*test_accuracy:.2f}%\")\n",
        "\n",
        "my_list = []\n",
        "for model_name in models_list.keys():\n",
        "    my_list.append(model_name)"
      ],
      "metadata": {
        "id": "_mCFo45sYJA-"
      },
      "execution_count": 33,
      "outputs": []
    },
    {
      "cell_type": "code",
      "source": [
        "model = load_pretrained_weights(my_list[0])\n",
        "criterion = nn.CrossEntropyLoss()\n",
        "optimizer = optim.SGD(model.parameters(), lr=0.001, momentum=0.9)\n",
        "print(f\"Training {my_list[0]}...\")\n",
        "train_model(model, criterion, optimizer)\n",
        "print(f\"Testing {my_list[0]}...\")\n",
        "test_model(model)\n",
        "print()"
      ],
      "metadata": {
        "colab": {
          "base_uri": "https://localhost:8080/"
        },
        "id": "AvNoH7pqYJHX",
        "outputId": "c0dd7a33-1147-430f-e84e-88651f250042"
      },
      "execution_count": 34,
      "outputs": [
        {
          "output_type": "stream",
          "name": "stdout",
          "text": [
            "Training LeNet-5...\n",
            "Epoch 1/5, Train Loss: 2.2781, Train Accuracy: 17.61%\n",
            "Epoch 2/5, Train Loss: 2.2495, Train Accuracy: 19.32%\n",
            "Epoch 3/5, Train Loss: 2.2381, Train Accuracy: 19.32%\n",
            "Epoch 4/5, Train Loss: 2.2340, Train Accuracy: 19.32%\n",
            "Epoch 5/5, Train Loss: 2.2331, Train Accuracy: 19.32%\n",
            "Testing LeNet-5...\n",
            "Test Accuracy: 19.59%\n",
            "\n"
          ]
        }
      ]
    },
    {
      "cell_type": "code",
      "source": [],
      "metadata": {
        "id": "cwfseN5zYJK-"
      },
      "execution_count": null,
      "outputs": []
    },
    {
      "cell_type": "code",
      "source": [],
      "metadata": {
        "id": "YYSojR3kYJNY"
      },
      "execution_count": null,
      "outputs": []
    },
    {
      "cell_type": "code",
      "source": [],
      "metadata": {
        "id": "K_FSNQeOYJQu"
      },
      "execution_count": null,
      "outputs": []
    },
    {
      "cell_type": "code",
      "source": [],
      "metadata": {
        "id": "HQD7PDz9YJVv"
      },
      "execution_count": null,
      "outputs": []
    },
    {
      "cell_type": "code",
      "source": [],
      "metadata": {
        "id": "5JPKPZAtYJYI"
      },
      "execution_count": null,
      "outputs": []
    },
    {
      "cell_type": "code",
      "source": [],
      "metadata": {
        "id": "rHqx6SM1YJay"
      },
      "execution_count": null,
      "outputs": []
    },
    {
      "cell_type": "code",
      "source": [],
      "metadata": {
        "id": "x23BPtRJYJdL"
      },
      "execution_count": null,
      "outputs": []
    },
    {
      "cell_type": "code",
      "source": [],
      "metadata": {
        "id": "wW1TQ0rNYJfc"
      },
      "execution_count": null,
      "outputs": []
    },
    {
      "cell_type": "code",
      "source": [],
      "metadata": {
        "id": "3QoMcb9DYJiw"
      },
      "execution_count": null,
      "outputs": []
    }
  ]
}